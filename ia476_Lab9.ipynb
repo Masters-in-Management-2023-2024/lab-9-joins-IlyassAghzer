{
  "nbformat": 4,
  "nbformat_minor": 0,
  "metadata": {
    "colab": {
      "provenance": []
    },
    "kernelspec": {
      "name": "python3",
      "display_name": "Python 3"
    },
    "language_info": {
      "name": "python"
    }
  },
  "cells": [
    {
      "cell_type": "code",
      "execution_count": 1,
      "metadata": {
        "id": "1aJ4f78cV2ls"
      },
      "outputs": [],
      "source": [
        "# Import necessary packages\n",
        "import polars as pl"
      ]
    },
    {
      "cell_type": "code",
      "source": [
        "# Load the bike trips and weather data\n",
        "trips = pl.read_csv(\"https://raw.githubusercontent.com/philhetzel/opan5510-class9/refs/heads/main/data/bike_trips.csv\", null_values='NA')\n",
        "weather = pl.read_csv(\"https://raw.githubusercontent.com/philhetzel/opan5510-class9/refs/heads/main/data/bike_weather.csv\", null_values=['NA',''])\n",
        "\n",
        "trips = trips.with_columns(pl.col(\"date\").str.strptime(pl.Date, \"%Y-%m-%d\").alias(\"date\")) # ensure date column is typed correctly\n",
        "weather = weather.with_columns(pl.col(\"date\").str.strptime(pl.Date, \"%Y-%m-%d\").alias(\"date\")) # ensure date column is typed correctly\n",
        "print(trips.height)\n",
        "print(weather.height)"
      ],
      "metadata": {
        "colab": {
          "base_uri": "https://localhost:8080/"
        },
        "id": "3qrc4vrQWIyP",
        "outputId": "5cc61fca-d38b-431d-cea5-823e03287b7b"
      },
      "execution_count": 2,
      "outputs": [
        {
          "output_type": "stream",
          "name": "stdout",
          "text": [
            "78704\n",
            "733\n"
          ]
        }
      ]
    },
    {
      "cell_type": "code",
      "source": [
        "# Question 1, PART A:\n",
        "trips_weather = trips.join(weather, on=\"date\", how=\"inner\")\n",
        "\n",
        "print(trips_weather.head())\n",
        "print(trips_weather.height)\n"
      ],
      "metadata": {
        "colab": {
          "base_uri": "https://localhost:8080/"
        },
        "id": "SeK9i5IiWZBz",
        "outputId": "76142700-ce02-448b-8539-85f85e231ecb"
      },
      "execution_count": 4,
      "outputs": [
        {
          "output_type": "stream",
          "name": "stdout",
          "text": [
            "shape: (5, 35)\n",
            "┌──────┬──────────┬─────────────┬─────────────┬───┬─────────────┬────────┬────────────┬────────────┐\n",
            "│ id   ┆ duration ┆ start_date  ┆ start_stati ┆ … ┆ cloud_cover ┆ events ┆ wind_dir_d ┆ zip_code_r │\n",
            "│ ---  ┆ ---      ┆ ---         ┆ on_name     ┆   ┆ ---         ┆ ---    ┆ egrees     ┆ ight       │\n",
            "│ i64  ┆ i64      ┆ str         ┆ ---         ┆   ┆ i64         ┆ str    ┆ ---        ┆ ---        │\n",
            "│      ┆          ┆             ┆ str         ┆   ┆             ┆        ┆ i64        ┆ i64        │\n",
            "╞══════╪══════════╪═════════════╪═════════════╪═══╪═════════════╪════════╪════════════╪════════════╡\n",
            "│ 4721 ┆ 3        ┆ 2013-08-29T ┆ Market at   ┆ … ┆ 4           ┆ null   ┆ 286        ┆ 94107      │\n",
            "│      ┆          ┆ 20:27:00Z   ┆ 10th        ┆   ┆             ┆        ┆            ┆            │\n",
            "│ 4812 ┆ 3        ┆ 2013-08-29T ┆ 2nd at      ┆ … ┆ 4           ┆ null   ┆ 286        ┆ 94107      │\n",
            "│      ┆          ┆ 21:30:00Z   ┆ Folsom      ┆   ┆             ┆        ┆            ┆            │\n",
            "│ 4705 ┆ 3        ┆ 2013-08-29T ┆ Golden Gate ┆ … ┆ 4           ┆ null   ┆ 286        ┆ 94107      │\n",
            "│      ┆          ┆ 20:15:00Z   ┆ at Polk     ┆   ┆             ┆        ┆            ┆            │\n",
            "│ 4841 ┆ 3        ┆ 2013-08-29T ┆ University  ┆ … ┆ 4           ┆ null   ┆ 286        ┆ 94107      │\n",
            "│      ┆          ┆ 21:48:00Z   ┆ and Emerson ┆   ┆             ┆        ┆            ┆            │\n",
            "│ 4668 ┆ 4        ┆ 2013-08-29T ┆ San         ┆ … ┆ 4           ┆ null   ┆ 286        ┆ 94107      │\n",
            "│      ┆          ┆ 19:39:00Z   ┆ Francisco   ┆   ┆             ┆        ┆            ┆            │\n",
            "│      ┆          ┆             ┆ Caltrain 2  ┆   ┆             ┆        ┆            ┆            │\n",
            "│      ┆          ┆             ┆ (330 …      ┆   ┆             ┆        ┆            ┆            │\n",
            "└──────┴──────────┴─────────────┴─────────────┴───┴─────────────┴────────┴────────────┴────────────┘\n",
            "78704\n"
          ]
        }
      ]
    },
    {
      "cell_type": "code",
      "source": [
        "# Question 1, PART B:\n",
        "avg_bad_weather = (\n",
        "    trips_weather\n",
        "    .filter(pl.col(\"events\").is_not_null())\n",
        "    .select(pl.col(\"duration\").mean().alias(\"avg_duration\"))\n",
        ")\n",
        "\n",
        "print(avg_bad_weather)\n"
      ],
      "metadata": {
        "colab": {
          "base_uri": "https://localhost:8080/"
        },
        "id": "jsjRJNanW_l0",
        "outputId": "73a2fc8b-c276-4fe0-def7-354936ac5037"
      },
      "execution_count": 5,
      "outputs": [
        {
          "output_type": "stream",
          "name": "stdout",
          "text": [
            "shape: (1, 1)\n",
            "┌──────────────┐\n",
            "│ avg_duration │\n",
            "│ ---          │\n",
            "│ f64          │\n",
            "╞══════════════╡\n",
            "│ 10.34899     │\n",
            "└──────────────┘\n"
          ]
        }
      ]
    },
    {
      "cell_type": "code",
      "source": [
        "# Load baseball datasets\n",
        "Batting = pl.read_csv(\"https://raw.githubusercontent.com/philhetzel/opan5510-class9/refs/heads/main/data/Batting.csv\", null_values='NA')\n",
        "People = pl.read_csv(\"https://raw.githubusercontent.com/philhetzel/opan5510-class9/refs/heads/main/data/People.csv\", null_values='NA')\n",
        "HallOfFame = pl.read_csv(\"https://raw.githubusercontent.com/philhetzel/opan5510-class9/refs/heads/main/data/HallOfFame.csv\", null_values='NA')"
      ],
      "metadata": {
        "id": "ufufg7exXbMF"
      },
      "execution_count": 6,
      "outputs": []
    },
    {
      "cell_type": "code",
      "source": [
        "# Question 2, PART A:\n",
        "stats_w_bio = Batting.join(People, on=\"playerID\", how=\"inner\")\n",
        "\n",
        "print(stats_w_bio.head())\n",
        "print(stats_w_bio.height)\n"
      ],
      "metadata": {
        "colab": {
          "base_uri": "https://localhost:8080/"
        },
        "id": "_AX8-5RFXVI5",
        "outputId": "72c8643d-557b-4202-c8fc-a372509d2947"
      },
      "execution_count": 7,
      "outputs": [
        {
          "output_type": "stream",
          "name": "stdout",
          "text": [
            "shape: (5, 47)\n",
            "┌───────────┬────────┬───────┬────────┬───┬──────────┬───────────┬────────────┬────────────┐\n",
            "│ playerID  ┆ yearID ┆ stint ┆ teamID ┆ … ┆ retroID  ┆ bbrefID   ┆ deathDate  ┆ birthDate  │\n",
            "│ ---       ┆ ---    ┆ ---   ┆ ---    ┆   ┆ ---      ┆ ---       ┆ ---        ┆ ---        │\n",
            "│ str       ┆ i64    ┆ i64   ┆ str    ┆   ┆ str      ┆ str       ┆ str        ┆ str        │\n",
            "╞═══════════╪════════╪═══════╪════════╪═══╪══════════╪═══════════╪════════════╪════════════╡\n",
            "│ abercda01 ┆ 1871   ┆ 1     ┆ TRO    ┆ … ┆ aberd101 ┆ abercda01 ┆ 1939-11-11 ┆ 1850-01-02 │\n",
            "│ addybo01  ┆ 1871   ┆ 1     ┆ RC1    ┆ … ┆ addyb101 ┆ addybo01  ┆ 1910-04-09 ┆ null       │\n",
            "│ allisar01 ┆ 1871   ┆ 1     ┆ CL1    ┆ … ┆ allia101 ┆ allisar01 ┆ 1916-02-25 ┆ 1849-01-29 │\n",
            "│ allisdo01 ┆ 1871   ┆ 1     ┆ WS3    ┆ … ┆ allid101 ┆ allisdo01 ┆ 1916-12-19 ┆ 1846-07-12 │\n",
            "│ ansonca01 ┆ 1871   ┆ 1     ┆ RC1    ┆ … ┆ ansoc101 ┆ ansonca01 ┆ 1922-04-14 ┆ 1852-04-17 │\n",
            "└───────────┴────────┴───────┴────────┴───┴──────────┴───────────┴────────────┴────────────┘\n",
            "112184\n"
          ]
        }
      ]
    },
    {
      "cell_type": "code",
      "source": [
        "# Question 2, PART B:\n",
        "florida_hr = (\n",
        "    stats_w_bio\n",
        "    .filter(pl.col(\"birthState\") == \"FL\")\n",
        "    .select(pl.col(\"HR\").sum().alias(\"total_hr\"))\n",
        ")\n",
        "\n",
        "print(florida_hr)\n"
      ],
      "metadata": {
        "colab": {
          "base_uri": "https://localhost:8080/"
        },
        "id": "rpSf19SXXvwL",
        "outputId": "d74b3927-878a-467d-a378-f0075323330d"
      },
      "execution_count": 8,
      "outputs": [
        {
          "output_type": "stream",
          "name": "stdout",
          "text": [
            "shape: (1, 1)\n",
            "┌──────────┐\n",
            "│ total_hr │\n",
            "│ ---      │\n",
            "│ i64      │\n",
            "╞══════════╡\n",
            "│ 16225    │\n",
            "└──────────┘\n"
          ]
        }
      ]
    },
    {
      "cell_type": "code",
      "source": [
        "# Question 3, PART A:\n",
        "hall_inducted = (\n",
        "    HallOfFame\n",
        "    .filter((pl.col(\"inducted\") == \"Y\") & (pl.col(\"category\") == \"Player\"))\n",
        "    .select([\"playerID\"])\n",
        "    .unique()\n",
        ")\n",
        "\n",
        "print(hall_inducted.head())\n",
        "print(hall_inducted.height)\n"
      ],
      "metadata": {
        "colab": {
          "base_uri": "https://localhost:8080/"
        },
        "id": "apiwv9DRYAmQ",
        "outputId": "ab22a3f5-7429-40ea-9c92-d74ab690c029"
      },
      "execution_count": 9,
      "outputs": [
        {
          "output_type": "stream",
          "name": "stdout",
          "text": [
            "shape: (5, 1)\n",
            "┌───────────┐\n",
            "│ playerID  │\n",
            "│ ---       │\n",
            "│ str       │\n",
            "╞═══════════╡\n",
            "│ burkeje01 │\n",
            "│ robinja02 │\n",
            "│ piazzmi01 │\n",
            "│ cronijo01 │\n",
            "│ vaughar01 │\n",
            "└───────────┘\n",
            "270\n"
          ]
        }
      ]
    },
    {
      "cell_type": "code",
      "source": [
        "# Question 3, PART B:\n",
        "hof_hits = (\n",
        "    Batting\n",
        "    .join(hall_inducted, on=\"playerID\", how=\"inner\")\n",
        "    .group_by(\"playerID\")\n",
        "    .agg(pl.col(\"H\").sum().alias(\"career_hits\"))\n",
        "    .select(pl.col(\"career_hits\").mean().alias(\"average_hits\"))\n",
        ")\n",
        "\n",
        "print(hof_hits)"
      ],
      "metadata": {
        "colab": {
          "base_uri": "https://localhost:8080/"
        },
        "id": "MGuFIJn5YUzq",
        "outputId": "c036e3e9-8e12-4ac7-e123-174688d614a1"
      },
      "execution_count": 11,
      "outputs": [
        {
          "output_type": "stream",
          "name": "stdout",
          "text": [
            "shape: (1, 1)\n",
            "┌──────────────┐\n",
            "│ average_hits │\n",
            "│ ---          │\n",
            "│ f64          │\n",
            "╞══════════════╡\n",
            "│ 1717.29918   │\n",
            "└──────────────┘\n"
          ]
        }
      ]
    }
  ]
}